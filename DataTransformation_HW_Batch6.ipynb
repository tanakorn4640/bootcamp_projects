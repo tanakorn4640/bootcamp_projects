{
  "nbformat": 4,
  "nbformat_minor": 0,
  "metadata": {
    "colab": {
      "provenance": [],
      "toc_visible": true,
      "authorship_tag": "ABX9TyOY8g1FSV9hns2hytqZ9XFc",
      "include_colab_link": true
    },
    "kernelspec": {
      "name": "ir",
      "display_name": "R"
    },
    "language_info": {
      "name": "R"
    }
  },
  "cells": [
    {
      "cell_type": "markdown",
      "metadata": {
        "id": "view-in-github",
        "colab_type": "text"
      },
      "source": [
        "<a href=\"https://colab.research.google.com/github/tanakorn4640/bootcamp_projects/blob/main/DataTransformation_HW_Batch6.ipynb\" target=\"_parent\"><img src=\"https://colab.research.google.com/assets/colab-badge.svg\" alt=\"Open In Colab\"/></a>"
      ]
    },
    {
      "cell_type": "markdown",
      "source": [
        "# Data transformation FlightNYC2013"
      ],
      "metadata": {
        "id": "yzr3clbo2waj"
      }
    },
    {
      "cell_type": "markdown",
      "source": [
        "# Install packages"
      ],
      "metadata": {
        "id": "yYiEsPdubLSm"
      }
    },
    {
      "cell_type": "code",
      "execution_count": null,
      "metadata": {
        "colab": {
          "base_uri": "https://localhost:8080/"
        },
        "id": "B1jqKJzqavgj",
        "outputId": "890b10b7-47d5-4502-ac15-f77cb117a5ca"
      },
      "outputs": [
        {
          "output_type": "stream",
          "name": "stderr",
          "text": [
            "Installing package into ‘/usr/local/lib/R/site-library’\n",
            "(as ‘lib’ is unspecified)\n",
            "\n"
          ]
        }
      ],
      "source": [
        "install.packages(\"nycflights13\")"
      ]
    },
    {
      "cell_type": "code",
      "source": [
        "library(tidyverse)\n",
        "library(nycflights13)\n",
        "library(glue)"
      ],
      "metadata": {
        "id": "3ffKZVx7c9ii"
      },
      "execution_count": null,
      "outputs": []
    },
    {
      "cell_type": "markdown",
      "source": [
        "## Overview Data"
      ],
      "metadata": {
        "id": "3CL8GqE7dZap"
      }
    },
    {
      "cell_type": "code",
      "source": [
        "fli_r <- flights\n",
        "fli_r |> glimpse()"
      ],
      "metadata": {
        "colab": {
          "base_uri": "https://localhost:8080/"
        },
        "id": "UC4zW4F3dc7A",
        "outputId": "6f43025f-fbff-4747-931c-9c23f38799a8"
      },
      "execution_count": null,
      "outputs": [
        {
          "output_type": "stream",
          "name": "stdout",
          "text": [
            "Rows: 336,776\n",
            "Columns: 19\n",
            "$ year           \u001b[3m\u001b[90m<int>\u001b[39m\u001b[23m 2013, 2013, 2013, 2013, 2013, 2013, 2013, 2013, 2013, 2…\n",
            "$ month          \u001b[3m\u001b[90m<int>\u001b[39m\u001b[23m 1, 1, 1, 1, 1, 1, 1, 1, 1, 1, 1, 1, 1, 1, 1, 1, 1, 1, 1…\n",
            "$ day            \u001b[3m\u001b[90m<int>\u001b[39m\u001b[23m 1, 1, 1, 1, 1, 1, 1, 1, 1, 1, 1, 1, 1, 1, 1, 1, 1, 1, 1…\n",
            "$ dep_time       \u001b[3m\u001b[90m<int>\u001b[39m\u001b[23m 517, 533, 542, 544, 554, 554, 555, 557, 557, 558, 558, …\n",
            "$ sched_dep_time \u001b[3m\u001b[90m<int>\u001b[39m\u001b[23m 515, 529, 540, 545, 600, 558, 600, 600, 600, 600, 600, …\n",
            "$ dep_delay      \u001b[3m\u001b[90m<dbl>\u001b[39m\u001b[23m 2, 4, 2, -1, -6, -4, -5, -3, -3, -2, -2, -2, -2, -2, -1…\n",
            "$ arr_time       \u001b[3m\u001b[90m<int>\u001b[39m\u001b[23m 830, 850, 923, 1004, 812, 740, 913, 709, 838, 753, 849,…\n",
            "$ sched_arr_time \u001b[3m\u001b[90m<int>\u001b[39m\u001b[23m 819, 830, 850, 1022, 837, 728, 854, 723, 846, 745, 851,…\n",
            "$ arr_delay      \u001b[3m\u001b[90m<dbl>\u001b[39m\u001b[23m 11, 20, 33, -18, -25, 12, 19, -14, -8, 8, -2, -3, 7, -1…\n",
            "$ carrier        \u001b[3m\u001b[90m<chr>\u001b[39m\u001b[23m \"UA\", \"UA\", \"AA\", \"B6\", \"DL\", \"UA\", \"B6\", \"EV\", \"B6\", \"…\n",
            "$ flight         \u001b[3m\u001b[90m<int>\u001b[39m\u001b[23m 1545, 1714, 1141, 725, 461, 1696, 507, 5708, 79, 301, 4…\n",
            "$ tailnum        \u001b[3m\u001b[90m<chr>\u001b[39m\u001b[23m \"N14228\", \"N24211\", \"N619AA\", \"N804JB\", \"N668DN\", \"N394…\n",
            "$ origin         \u001b[3m\u001b[90m<chr>\u001b[39m\u001b[23m \"EWR\", \"LGA\", \"JFK\", \"JFK\", \"LGA\", \"EWR\", \"EWR\", \"LGA\",…\n",
            "$ dest           \u001b[3m\u001b[90m<chr>\u001b[39m\u001b[23m \"IAH\", \"IAH\", \"MIA\", \"BQN\", \"ATL\", \"ORD\", \"FLL\", \"IAD\",…\n",
            "$ air_time       \u001b[3m\u001b[90m<dbl>\u001b[39m\u001b[23m 227, 227, 160, 183, 116, 150, 158, 53, 140, 138, 149, 1…\n",
            "$ distance       \u001b[3m\u001b[90m<dbl>\u001b[39m\u001b[23m 1400, 1416, 1089, 1576, 762, 719, 1065, 229, 944, 733, …\n",
            "$ hour           \u001b[3m\u001b[90m<dbl>\u001b[39m\u001b[23m 5, 5, 5, 5, 6, 5, 6, 6, 6, 6, 6, 6, 6, 6, 6, 5, 6, 6, 6…\n",
            "$ minute         \u001b[3m\u001b[90m<dbl>\u001b[39m\u001b[23m 15, 29, 40, 45, 0, 58, 0, 0, 0, 0, 0, 0, 0, 0, 0, 59, 0…\n",
            "$ time_hour      \u001b[3m\u001b[90m<dttm>\u001b[39m\u001b[23m 2013-01-01 05:00:00, 2013-01-01 05:00:00, 2013-01-01 0…\n"
          ]
        }
      ]
    },
    {
      "cell_type": "code",
      "source": [],
      "metadata": {
        "id": "5nx5WPr7eO7X"
      },
      "execution_count": null,
      "outputs": []
    },
    {
      "cell_type": "markdown",
      "source": [
        "## Cleaning Data"
      ],
      "metadata": {
        "id": "hiLNFw6rfD7l"
      }
    },
    {
      "cell_type": "markdown",
      "source": [
        "check percentage than how data have Not NA"
      ],
      "metadata": {
        "id": "rJkZDk5Cfi5h"
      }
    },
    {
      "cell_type": "code",
      "source": [
        "sum ( complete.cases(fli_r) ) / nrow(fli_r)"
      ],
      "metadata": {
        "colab": {
          "base_uri": "https://localhost:8080/",
          "height": 34
        },
        "id": "ifMeYLsxhvLJ",
        "outputId": "4bd6d5f1-1a18-45cb-96c7-882d1b79487c"
      },
      "execution_count": null,
      "outputs": [
        {
          "output_type": "display_data",
          "data": {
            "text/html": [
              "0.971999192341497"
            ],
            "text/markdown": "0.971999192341497",
            "text/latex": "0.971999192341497",
            "text/plain": [
              "[1] 0.9719992"
            ]
          },
          "metadata": {}
        }
      ]
    },
    {
      "cell_type": "markdown",
      "source": [
        "it have row that not NA 97% and NA 3%"
      ],
      "metadata": {
        "id": "mBySFmn-iFpF"
      }
    },
    {
      "cell_type": "markdown",
      "source": [
        "## Drop Data\n"
      ],
      "metadata": {
        "id": "5IYyac4lw5r8"
      }
    },
    {
      "cell_type": "code",
      "source": [
        "fli_1 <- drop_na(fli_r)"
      ],
      "metadata": {
        "id": "zpwBq2ruxDVd"
      },
      "execution_count": null,
      "outputs": []
    },
    {
      "cell_type": "markdown",
      "source": [
        "## Example Data"
      ],
      "metadata": {
        "id": "3FV8ZpgDiOuh"
      }
    },
    {
      "cell_type": "code",
      "source": [
        "head(fli_1, 5)"
      ],
      "metadata": {
        "colab": {
          "base_uri": "https://localhost:8080/",
          "height": 362
        },
        "id": "9BaBDpx6iiKa",
        "outputId": "7572b723-a6b8-40b0-95c2-282174c809e7"
      },
      "execution_count": null,
      "outputs": [
        {
          "output_type": "display_data",
          "data": {
            "text/html": [
              "<table class=\"dataframe\">\n",
              "<caption>A tibble: 5 × 19</caption>\n",
              "<thead>\n",
              "\t<tr><th scope=col>year</th><th scope=col>month</th><th scope=col>day</th><th scope=col>dep_time</th><th scope=col>sched_dep_time</th><th scope=col>dep_delay</th><th scope=col>arr_time</th><th scope=col>sched_arr_time</th><th scope=col>arr_delay</th><th scope=col>carrier</th><th scope=col>flight</th><th scope=col>tailnum</th><th scope=col>origin</th><th scope=col>dest</th><th scope=col>air_time</th><th scope=col>distance</th><th scope=col>hour</th><th scope=col>minute</th><th scope=col>time_hour</th></tr>\n",
              "\t<tr><th scope=col>&lt;int&gt;</th><th scope=col>&lt;int&gt;</th><th scope=col>&lt;int&gt;</th><th scope=col>&lt;int&gt;</th><th scope=col>&lt;int&gt;</th><th scope=col>&lt;dbl&gt;</th><th scope=col>&lt;int&gt;</th><th scope=col>&lt;int&gt;</th><th scope=col>&lt;dbl&gt;</th><th scope=col>&lt;chr&gt;</th><th scope=col>&lt;int&gt;</th><th scope=col>&lt;chr&gt;</th><th scope=col>&lt;chr&gt;</th><th scope=col>&lt;chr&gt;</th><th scope=col>&lt;dbl&gt;</th><th scope=col>&lt;dbl&gt;</th><th scope=col>&lt;dbl&gt;</th><th scope=col>&lt;dbl&gt;</th><th scope=col>&lt;dttm&gt;</th></tr>\n",
              "</thead>\n",
              "<tbody>\n",
              "\t<tr><td>2013</td><td>1</td><td>1</td><td>517</td><td>515</td><td> 2</td><td> 830</td><td> 819</td><td> 11</td><td>UA</td><td>1545</td><td>N14228</td><td>EWR</td><td>IAH</td><td>227</td><td>1400</td><td>5</td><td>15</td><td>2013-01-01 05:00:00</td></tr>\n",
              "\t<tr><td>2013</td><td>1</td><td>1</td><td>533</td><td>529</td><td> 4</td><td> 850</td><td> 830</td><td> 20</td><td>UA</td><td>1714</td><td>N24211</td><td>LGA</td><td>IAH</td><td>227</td><td>1416</td><td>5</td><td>29</td><td>2013-01-01 05:00:00</td></tr>\n",
              "\t<tr><td>2013</td><td>1</td><td>1</td><td>542</td><td>540</td><td> 2</td><td> 923</td><td> 850</td><td> 33</td><td>AA</td><td>1141</td><td>N619AA</td><td>JFK</td><td>MIA</td><td>160</td><td>1089</td><td>5</td><td>40</td><td>2013-01-01 05:00:00</td></tr>\n",
              "\t<tr><td>2013</td><td>1</td><td>1</td><td>544</td><td>545</td><td>-1</td><td>1004</td><td>1022</td><td>-18</td><td>B6</td><td> 725</td><td>N804JB</td><td>JFK</td><td>BQN</td><td>183</td><td>1576</td><td>5</td><td>45</td><td>2013-01-01 05:00:00</td></tr>\n",
              "\t<tr><td>2013</td><td>1</td><td>1</td><td>554</td><td>600</td><td>-6</td><td> 812</td><td> 837</td><td>-25</td><td>DL</td><td> 461</td><td>N668DN</td><td>LGA</td><td>ATL</td><td>116</td><td> 762</td><td>6</td><td> 0</td><td>2013-01-01 06:00:00</td></tr>\n",
              "</tbody>\n",
              "</table>\n"
            ],
            "text/markdown": "\nA tibble: 5 × 19\n\n| year &lt;int&gt; | month &lt;int&gt; | day &lt;int&gt; | dep_time &lt;int&gt; | sched_dep_time &lt;int&gt; | dep_delay &lt;dbl&gt; | arr_time &lt;int&gt; | sched_arr_time &lt;int&gt; | arr_delay &lt;dbl&gt; | carrier &lt;chr&gt; | flight &lt;int&gt; | tailnum &lt;chr&gt; | origin &lt;chr&gt; | dest &lt;chr&gt; | air_time &lt;dbl&gt; | distance &lt;dbl&gt; | hour &lt;dbl&gt; | minute &lt;dbl&gt; | time_hour &lt;dttm&gt; |\n|---|---|---|---|---|---|---|---|---|---|---|---|---|---|---|---|---|---|---|\n| 2013 | 1 | 1 | 517 | 515 |  2 |  830 |  819 |  11 | UA | 1545 | N14228 | EWR | IAH | 227 | 1400 | 5 | 15 | 2013-01-01 05:00:00 |\n| 2013 | 1 | 1 | 533 | 529 |  4 |  850 |  830 |  20 | UA | 1714 | N24211 | LGA | IAH | 227 | 1416 | 5 | 29 | 2013-01-01 05:00:00 |\n| 2013 | 1 | 1 | 542 | 540 |  2 |  923 |  850 |  33 | AA | 1141 | N619AA | JFK | MIA | 160 | 1089 | 5 | 40 | 2013-01-01 05:00:00 |\n| 2013 | 1 | 1 | 544 | 545 | -1 | 1004 | 1022 | -18 | B6 |  725 | N804JB | JFK | BQN | 183 | 1576 | 5 | 45 | 2013-01-01 05:00:00 |\n| 2013 | 1 | 1 | 554 | 600 | -6 |  812 |  837 | -25 | DL |  461 | N668DN | LGA | ATL | 116 |  762 | 6 |  0 | 2013-01-01 06:00:00 |\n\n",
            "text/latex": "A tibble: 5 × 19\n\\begin{tabular}{lllllllllllllllllll}\n year & month & day & dep\\_time & sched\\_dep\\_time & dep\\_delay & arr\\_time & sched\\_arr\\_time & arr\\_delay & carrier & flight & tailnum & origin & dest & air\\_time & distance & hour & minute & time\\_hour\\\\\n <int> & <int> & <int> & <int> & <int> & <dbl> & <int> & <int> & <dbl> & <chr> & <int> & <chr> & <chr> & <chr> & <dbl> & <dbl> & <dbl> & <dbl> & <dttm>\\\\\n\\hline\n\t 2013 & 1 & 1 & 517 & 515 &  2 &  830 &  819 &  11 & UA & 1545 & N14228 & EWR & IAH & 227 & 1400 & 5 & 15 & 2013-01-01 05:00:00\\\\\n\t 2013 & 1 & 1 & 533 & 529 &  4 &  850 &  830 &  20 & UA & 1714 & N24211 & LGA & IAH & 227 & 1416 & 5 & 29 & 2013-01-01 05:00:00\\\\\n\t 2013 & 1 & 1 & 542 & 540 &  2 &  923 &  850 &  33 & AA & 1141 & N619AA & JFK & MIA & 160 & 1089 & 5 & 40 & 2013-01-01 05:00:00\\\\\n\t 2013 & 1 & 1 & 544 & 545 & -1 & 1004 & 1022 & -18 & B6 &  725 & N804JB & JFK & BQN & 183 & 1576 & 5 & 45 & 2013-01-01 05:00:00\\\\\n\t 2013 & 1 & 1 & 554 & 600 & -6 &  812 &  837 & -25 & DL &  461 & N668DN & LGA & ATL & 116 &  762 & 6 &  0 & 2013-01-01 06:00:00\\\\\n\\end{tabular}\n",
            "text/plain": [
              "  year month day dep_time sched_dep_time dep_delay arr_time sched_arr_time\n",
              "1 2013 1     1   517      515             2         830      819          \n",
              "2 2013 1     1   533      529             4         850      830          \n",
              "3 2013 1     1   542      540             2         923      850          \n",
              "4 2013 1     1   544      545            -1        1004     1022          \n",
              "5 2013 1     1   554      600            -6         812      837          \n",
              "  arr_delay carrier flight tailnum origin dest air_time distance hour minute\n",
              "1  11       UA      1545   N14228  EWR    IAH  227      1400     5    15    \n",
              "2  20       UA      1714   N24211  LGA    IAH  227      1416     5    29    \n",
              "3  33       AA      1141   N619AA  JFK    MIA  160      1089     5    40    \n",
              "4 -18       B6       725   N804JB  JFK    BQN  183      1576     5    45    \n",
              "5 -25       DL       461   N668DN  LGA    ATL  116       762     6     0    \n",
              "  time_hour          \n",
              "1 2013-01-01 05:00:00\n",
              "2 2013-01-01 05:00:00\n",
              "3 2013-01-01 05:00:00\n",
              "4 2013-01-01 05:00:00\n",
              "5 2013-01-01 06:00:00"
            ]
          },
          "metadata": {}
        }
      ]
    },
    {
      "cell_type": "markdown",
      "source": [
        "## Question 1 Which top 3 carrier had most flight in 31 Dec 2013\n",
        "\n",
        "\n",
        "\n"
      ],
      "metadata": {
        "id": "7ZBOoUIPixik"
      }
    },
    {
      "cell_type": "code",
      "source": [
        "df1 <- fli_1 |>\n",
        "  filter(year == 2013, month == 12, day == 31) |>\n",
        "  count(carrier) |>\n",
        "  arrange( desc(n)) |>\n",
        "  left_join(airlines, by = \"carrier\") |>\n",
        "  head(3) |>\n",
        "  rename(count_flights = n) \n",
        "\n",
        "df1 |>\n",
        "  select(carrier , count_flights, name)"
      ],
      "metadata": {
        "colab": {
          "base_uri": "https://localhost:8080/",
          "height": 192
        },
        "id": "jG4K226BjcfY",
        "outputId": "ed8f25ce-ecfc-467e-e544-089623541261"
      },
      "execution_count": null,
      "outputs": [
        {
          "output_type": "display_data",
          "data": {
            "text/html": [
              "<table class=\"dataframe\">\n",
              "<caption>A tibble: 3 × 3</caption>\n",
              "<thead>\n",
              "\t<tr><th scope=col>carrier</th><th scope=col>count_flights</th><th scope=col>name</th></tr>\n",
              "\t<tr><th scope=col>&lt;chr&gt;</th><th scope=col>&lt;int&gt;</th><th scope=col>&lt;chr&gt;</th></tr>\n",
              "</thead>\n",
              "<tbody>\n",
              "\t<tr><td>B6</td><td>159</td><td>JetBlue Airways      </td></tr>\n",
              "\t<tr><td>UA</td><td>133</td><td>United Air Lines Inc.</td></tr>\n",
              "\t<tr><td>DL</td><td>124</td><td>Delta Air Lines Inc. </td></tr>\n",
              "</tbody>\n",
              "</table>\n"
            ],
            "text/markdown": "\nA tibble: 3 × 3\n\n| carrier &lt;chr&gt; | count_flights &lt;int&gt; | name &lt;chr&gt; |\n|---|---|---|\n| B6 | 159 | JetBlue Airways       |\n| UA | 133 | United Air Lines Inc. |\n| DL | 124 | Delta Air Lines Inc.  |\n\n",
            "text/latex": "A tibble: 3 × 3\n\\begin{tabular}{lll}\n carrier & count\\_flights & name\\\\\n <chr> & <int> & <chr>\\\\\n\\hline\n\t B6 & 159 & JetBlue Airways      \\\\\n\t UA & 133 & United Air Lines Inc.\\\\\n\t DL & 124 & Delta Air Lines Inc. \\\\\n\\end{tabular}\n",
            "text/plain": [
              "  carrier count_flights name                 \n",
              "1 B6      159           JetBlue Airways      \n",
              "2 UA      133           United Air Lines Inc.\n",
              "3 DL      124           Delta Air Lines Inc. "
            ]
          },
          "metadata": {}
        }
      ]
    },
    {
      "cell_type": "markdown",
      "source": [
        "## Question 2 Top 5 carrier had most  average departure delays"
      ],
      "metadata": {
        "id": "IBE5wRx8qN2b"
      }
    },
    {
      "cell_type": "code",
      "source": [
        "df2 <- fli_1 |>\n",
        "  filter(dep_delay > 0) |>\n",
        "  group_by(carrier) |> \n",
        "  summarise(depart_delay = mean(dep_delay) ) |>\n",
        "  arrange( desc(depart_delay)) |>\n",
        "  left_join(airlines, by = \"carrier\") |>\n",
        "  head(5) \n",
        "  df2\n",
        "\n",
        " "
      ],
      "metadata": {
        "colab": {
          "base_uri": "https://localhost:8080/",
          "height": 255
        },
        "id": "0TDXsdcMqfBu",
        "outputId": "480946dc-3326-4ce4-f088-7295779242ac"
      },
      "execution_count": null,
      "outputs": [
        {
          "output_type": "display_data",
          "data": {
            "text/html": [
              "<table class=\"dataframe\">\n",
              "<caption>A tibble: 5 × 3</caption>\n",
              "<thead>\n",
              "\t<tr><th scope=col>carrier</th><th scope=col>depart_delay</th><th scope=col>name</th></tr>\n",
              "\t<tr><th scope=col>&lt;chr&gt;</th><th scope=col>&lt;dbl&gt;</th><th scope=col>&lt;chr&gt;</th></tr>\n",
              "</thead>\n",
              "<tbody>\n",
              "\t<tr><td>OO</td><td>58.00000</td><td>SkyWest Airlines Inc.   </td></tr>\n",
              "\t<tr><td>YV</td><td>52.87069</td><td>Mesa Airlines Inc.      </td></tr>\n",
              "\t<tr><td>EV</td><td>50.19481</td><td>ExpressJet Airlines Inc.</td></tr>\n",
              "\t<tr><td>9E</td><td>48.47393</td><td>Endeavor Air Inc.       </td></tr>\n",
              "\t<tr><td>F9</td><td>45.18235</td><td>Frontier Airlines Inc.  </td></tr>\n",
              "</tbody>\n",
              "</table>\n"
            ],
            "text/markdown": "\nA tibble: 5 × 3\n\n| carrier &lt;chr&gt; | depart_delay &lt;dbl&gt; | name &lt;chr&gt; |\n|---|---|---|\n| OO | 58.00000 | SkyWest Airlines Inc.    |\n| YV | 52.87069 | Mesa Airlines Inc.       |\n| EV | 50.19481 | ExpressJet Airlines Inc. |\n| 9E | 48.47393 | Endeavor Air Inc.        |\n| F9 | 45.18235 | Frontier Airlines Inc.   |\n\n",
            "text/latex": "A tibble: 5 × 3\n\\begin{tabular}{lll}\n carrier & depart\\_delay & name\\\\\n <chr> & <dbl> & <chr>\\\\\n\\hline\n\t OO & 58.00000 & SkyWest Airlines Inc.   \\\\\n\t YV & 52.87069 & Mesa Airlines Inc.      \\\\\n\t EV & 50.19481 & ExpressJet Airlines Inc.\\\\\n\t 9E & 48.47393 & Endeavor Air Inc.       \\\\\n\t F9 & 45.18235 & Frontier Airlines Inc.  \\\\\n\\end{tabular}\n",
            "text/plain": [
              "  carrier depart_delay name                    \n",
              "1 OO      58.00000     SkyWest Airlines Inc.   \n",
              "2 YV      52.87069     Mesa Airlines Inc.      \n",
              "3 EV      50.19481     ExpressJet Airlines Inc.\n",
              "4 9E      48.47393     Endeavor Air Inc.       \n",
              "5 F9      45.18235     Frontier Airlines Inc.  "
            ]
          },
          "metadata": {}
        }
      ]
    },
    {
      "cell_type": "markdown",
      "source": [
        "## Question 3 Which top 10 had most average air time in Dec 2013"
      ],
      "metadata": {
        "id": "7RGcRtETurNe"
      }
    },
    {
      "cell_type": "code",
      "source": [
        "df3 <- fli_1 |>\n",
        "  filter(year == 2013, month == 12) |>\n",
        "  group_by(carrier) |> \n",
        "  summarise(m_airtime = mean(air_time)) |>\n",
        "  arrange( desc(m_airtime)) |>\n",
        "  left_join(airlines, by = \"carrier\") |>\n",
        "  head(10)\n",
        "  tibble(df3)"
      ],
      "metadata": {
        "colab": {
          "base_uri": "https://localhost:8080/",
          "height": 412
        },
        "id": "nW95tKluvImu",
        "outputId": "239074bb-8750-4d35-e434-439aa9ad0711"
      },
      "execution_count": null,
      "outputs": [
        {
          "output_type": "display_data",
          "data": {
            "text/html": [
              "<table class=\"dataframe\">\n",
              "<caption>A tibble: 10 × 3</caption>\n",
              "<thead>\n",
              "\t<tr><th scope=col>carrier</th><th scope=col>m_airtime</th><th scope=col>name</th></tr>\n",
              "\t<tr><th scope=col>&lt;chr&gt;</th><th scope=col>&lt;dbl&gt;</th><th scope=col>&lt;chr&gt;</th></tr>\n",
              "</thead>\n",
              "<tbody>\n",
              "\t<tr><td>HA</td><td>630.7143</td><td>Hawaiian Airlines Inc.     </td></tr>\n",
              "\t<tr><td>VX</td><td>354.0000</td><td>Virgin America             </td></tr>\n",
              "\t<tr><td>AS</td><td>338.4074</td><td>Alaska Airlines Inc.       </td></tr>\n",
              "\t<tr><td>F9</td><td>243.7377</td><td>Frontier Airlines Inc.     </td></tr>\n",
              "\t<tr><td>UA</td><td>224.2924</td><td>United Air Lines Inc.      </td></tr>\n",
              "\t<tr><td>AA</td><td>200.7724</td><td>American Airlines Inc.     </td></tr>\n",
              "\t<tr><td>DL</td><td>183.6727</td><td>Delta Air Lines Inc.       </td></tr>\n",
              "\t<tr><td>WN</td><td>162.1257</td><td>Southwest Airlines Co.     </td></tr>\n",
              "\t<tr><td>B6</td><td>161.5279</td><td>JetBlue Airways            </td></tr>\n",
              "\t<tr><td>FL</td><td>106.5000</td><td>AirTran Airways Corporation</td></tr>\n",
              "</tbody>\n",
              "</table>\n"
            ],
            "text/markdown": "\nA tibble: 10 × 3\n\n| carrier &lt;chr&gt; | m_airtime &lt;dbl&gt; | name &lt;chr&gt; |\n|---|---|---|\n| HA | 630.7143 | Hawaiian Airlines Inc.      |\n| VX | 354.0000 | Virgin America              |\n| AS | 338.4074 | Alaska Airlines Inc.        |\n| F9 | 243.7377 | Frontier Airlines Inc.      |\n| UA | 224.2924 | United Air Lines Inc.       |\n| AA | 200.7724 | American Airlines Inc.      |\n| DL | 183.6727 | Delta Air Lines Inc.        |\n| WN | 162.1257 | Southwest Airlines Co.      |\n| B6 | 161.5279 | JetBlue Airways             |\n| FL | 106.5000 | AirTran Airways Corporation |\n\n",
            "text/latex": "A tibble: 10 × 3\n\\begin{tabular}{lll}\n carrier & m\\_airtime & name\\\\\n <chr> & <dbl> & <chr>\\\\\n\\hline\n\t HA & 630.7143 & Hawaiian Airlines Inc.     \\\\\n\t VX & 354.0000 & Virgin America             \\\\\n\t AS & 338.4074 & Alaska Airlines Inc.       \\\\\n\t F9 & 243.7377 & Frontier Airlines Inc.     \\\\\n\t UA & 224.2924 & United Air Lines Inc.      \\\\\n\t AA & 200.7724 & American Airlines Inc.     \\\\\n\t DL & 183.6727 & Delta Air Lines Inc.       \\\\\n\t WN & 162.1257 & Southwest Airlines Co.     \\\\\n\t B6 & 161.5279 & JetBlue Airways            \\\\\n\t FL & 106.5000 & AirTran Airways Corporation\\\\\n\\end{tabular}\n",
            "text/plain": [
              "   carrier m_airtime name                       \n",
              "1  HA      630.7143  Hawaiian Airlines Inc.     \n",
              "2  VX      354.0000  Virgin America             \n",
              "3  AS      338.4074  Alaska Airlines Inc.       \n",
              "4  F9      243.7377  Frontier Airlines Inc.     \n",
              "5  UA      224.2924  United Air Lines Inc.      \n",
              "6  AA      200.7724  American Airlines Inc.     \n",
              "7  DL      183.6727  Delta Air Lines Inc.       \n",
              "8  WN      162.1257  Southwest Airlines Co.     \n",
              "9  B6      161.5279  JetBlue Airways            \n",
              "10 FL      106.5000  AirTran Airways Corporation"
            ]
          },
          "metadata": {}
        }
      ]
    },
    {
      "cell_type": "markdown",
      "source": [
        "## Question 4  What are the top 3 popular destinations in July 2013"
      ],
      "metadata": {
        "id": "ap_xJAFbxhJs"
      }
    },
    {
      "cell_type": "code",
      "source": [
        "df4 <- fli_1 |> \n",
        "  filter(year == 2013, month == 7) |>\n",
        "  count(dest) |>\n",
        "  arrange( desc(n)) |>\n",
        "  head(3)\n",
        "  df4\n"
      ],
      "metadata": {
        "colab": {
          "base_uri": "https://localhost:8080/",
          "height": 192
        },
        "id": "W7nesJpPjcgf",
        "outputId": "fda402e4-2e94-4b73-e61e-11043a522b71"
      },
      "execution_count": null,
      "outputs": [
        {
          "output_type": "display_data",
          "data": {
            "text/html": [
              "<table class=\"dataframe\">\n",
              "<caption>A tibble: 3 × 2</caption>\n",
              "<thead>\n",
              "\t<tr><th scope=col>dest</th><th scope=col>n</th></tr>\n",
              "\t<tr><th scope=col>&lt;chr&gt;</th><th scope=col>&lt;int&gt;</th></tr>\n",
              "</thead>\n",
              "<tbody>\n",
              "\t<tr><td>LAX</td><td>1494</td></tr>\n",
              "\t<tr><td>ORD</td><td>1487</td></tr>\n",
              "\t<tr><td>ATL</td><td>1448</td></tr>\n",
              "</tbody>\n",
              "</table>\n"
            ],
            "text/markdown": "\nA tibble: 3 × 2\n\n| dest &lt;chr&gt; | n &lt;int&gt; |\n|---|---|\n| LAX | 1494 |\n| ORD | 1487 |\n| ATL | 1448 |\n\n",
            "text/latex": "A tibble: 3 × 2\n\\begin{tabular}{ll}\n dest & n\\\\\n <chr> & <int>\\\\\n\\hline\n\t LAX & 1494\\\\\n\t ORD & 1487\\\\\n\t ATL & 1448\\\\\n\\end{tabular}\n",
            "text/plain": [
              "  dest n   \n",
              "1 LAX  1494\n",
              "2 ORD  1487\n",
              "3 ATL  1448"
            ]
          },
          "metadata": {}
        }
      ]
    },
    {
      "cell_type": "markdown",
      "source": [
        "## Question 5 Top 10 carrier had most average distance"
      ],
      "metadata": {
        "id": "ahtFmHQpoovu"
      }
    },
    {
      "cell_type": "code",
      "source": [
        "df5 <- fli_1 |>\n",
        "  select(carrier, distance) |>\n",
        "  group_by(carrier) |>\n",
        "  summarise(avg_dis = mean(distance)) |>\n",
        "  arrange( desc(avg_dis)) |>\n",
        "  left_join(airlines, by = \"carrier\") |>\n",
        "  head(10)\n",
        "  df5"
      ],
      "metadata": {
        "colab": {
          "base_uri": "https://localhost:8080/",
          "height": 412
        },
        "id": "_ih2_WvS1NuH",
        "outputId": "6ddd38cb-40c6-422d-e03d-7fd1f91f87bb"
      },
      "execution_count": null,
      "outputs": [
        {
          "output_type": "display_data",
          "data": {
            "text/html": [
              "<table class=\"dataframe\">\n",
              "<caption>A tibble: 10 × 3</caption>\n",
              "<thead>\n",
              "\t<tr><th scope=col>carrier</th><th scope=col>avg_dis</th><th scope=col>name</th></tr>\n",
              "\t<tr><th scope=col>&lt;chr&gt;</th><th scope=col>&lt;dbl&gt;</th><th scope=col>&lt;chr&gt;</th></tr>\n",
              "</thead>\n",
              "<tbody>\n",
              "\t<tr><td>HA</td><td>4983.0000</td><td>Hawaiian Airlines Inc.     </td></tr>\n",
              "\t<tr><td>VX</td><td>2499.4326</td><td>Virgin America             </td></tr>\n",
              "\t<tr><td>AS</td><td>2402.0000</td><td>Alaska Airlines Inc.       </td></tr>\n",
              "\t<tr><td>F9</td><td>1620.0000</td><td>Frontier Airlines Inc.     </td></tr>\n",
              "\t<tr><td>UA</td><td>1531.3214</td><td>United Air Lines Inc.      </td></tr>\n",
              "\t<tr><td>AA</td><td>1343.2799</td><td>American Airlines Inc.     </td></tr>\n",
              "\t<tr><td>DL</td><td>1237.9791</td><td>Delta Air Lines Inc.       </td></tr>\n",
              "\t<tr><td>B6</td><td>1069.6896</td><td>JetBlue Airways            </td></tr>\n",
              "\t<tr><td>WN</td><td> 996.9714</td><td>Southwest Airlines Co.     </td></tr>\n",
              "\t<tr><td>FL</td><td> 664.7874</td><td>AirTran Airways Corporation</td></tr>\n",
              "</tbody>\n",
              "</table>\n"
            ],
            "text/markdown": "\nA tibble: 10 × 3\n\n| carrier &lt;chr&gt; | avg_dis &lt;dbl&gt; | name &lt;chr&gt; |\n|---|---|---|\n| HA | 4983.0000 | Hawaiian Airlines Inc.      |\n| VX | 2499.4326 | Virgin America              |\n| AS | 2402.0000 | Alaska Airlines Inc.        |\n| F9 | 1620.0000 | Frontier Airlines Inc.      |\n| UA | 1531.3214 | United Air Lines Inc.       |\n| AA | 1343.2799 | American Airlines Inc.      |\n| DL | 1237.9791 | Delta Air Lines Inc.        |\n| B6 | 1069.6896 | JetBlue Airways             |\n| WN |  996.9714 | Southwest Airlines Co.      |\n| FL |  664.7874 | AirTran Airways Corporation |\n\n",
            "text/latex": "A tibble: 10 × 3\n\\begin{tabular}{lll}\n carrier & avg\\_dis & name\\\\\n <chr> & <dbl> & <chr>\\\\\n\\hline\n\t HA & 4983.0000 & Hawaiian Airlines Inc.     \\\\\n\t VX & 2499.4326 & Virgin America             \\\\\n\t AS & 2402.0000 & Alaska Airlines Inc.       \\\\\n\t F9 & 1620.0000 & Frontier Airlines Inc.     \\\\\n\t UA & 1531.3214 & United Air Lines Inc.      \\\\\n\t AA & 1343.2799 & American Airlines Inc.     \\\\\n\t DL & 1237.9791 & Delta Air Lines Inc.       \\\\\n\t B6 & 1069.6896 & JetBlue Airways            \\\\\n\t WN &  996.9714 & Southwest Airlines Co.     \\\\\n\t FL &  664.7874 & AirTran Airways Corporation\\\\\n\\end{tabular}\n",
            "text/plain": [
              "   carrier avg_dis   name                       \n",
              "1  HA      4983.0000 Hawaiian Airlines Inc.     \n",
              "2  VX      2499.4326 Virgin America             \n",
              "3  AS      2402.0000 Alaska Airlines Inc.       \n",
              "4  F9      1620.0000 Frontier Airlines Inc.     \n",
              "5  UA      1531.3214 United Air Lines Inc.      \n",
              "6  AA      1343.2799 American Airlines Inc.     \n",
              "7  DL      1237.9791 Delta Air Lines Inc.       \n",
              "8  B6      1069.6896 JetBlue Airways            \n",
              "9  WN       996.9714 Southwest Airlines Co.     \n",
              "10 FL       664.7874 AirTran Airways Corporation"
            ]
          },
          "metadata": {}
        }
      ]
    },
    {
      "cell_type": "markdown",
      "source": [
        "# RPostgreSQL"
      ],
      "metadata": {
        "id": "AjZeCJGc2LTl"
      }
    },
    {
      "cell_type": "markdown",
      "source": [
        "## Install package"
      ],
      "metadata": {
        "id": "rhXZnnSb2i0g"
      }
    },
    {
      "cell_type": "code",
      "source": [
        "install.packages(\"RPostgreSQL\")"
      ],
      "metadata": {
        "colab": {
          "base_uri": "https://localhost:8080/"
        },
        "id": "hKiAsR4f2l6S",
        "outputId": "fbc6ae0a-604b-4aa3-9287-645ee2ff28c9"
      },
      "execution_count": null,
      "outputs": [
        {
          "output_type": "stream",
          "name": "stderr",
          "text": [
            "Installing package into ‘/usr/local/lib/R/site-library’\n",
            "(as ‘lib’ is unspecified)\n",
            "\n"
          ]
        }
      ]
    },
    {
      "cell_type": "code",
      "source": [
        "library(RPostgreSQL)"
      ],
      "metadata": {
        "id": "E76PkMTJ3vbr"
      },
      "execution_count": null,
      "outputs": []
    },
    {
      "cell_type": "markdown",
      "source": [
        "## Connect to server"
      ],
      "metadata": {
        "id": "EaikrlRA31NE"
      }
    },
    {
      "cell_type": "code",
      "source": [
        "con <- dbConnect(\n",
        "  PostgreSQL(),\n",
        "  host = \"tiny.db.elephantsql.com\",\n",
        "  dbname = \"kjqqmmfy\",\n",
        "  port = 5432,\n",
        "  user = \"kjqqmmfy\",\n",
        "  password = \"aD8YH4w6E1U9vxubOTanaXHI8ZAZzTCI\"\n",
        ")"
      ],
      "metadata": {
        "id": "RGZVKZho3_d7"
      },
      "execution_count": null,
      "outputs": []
    },
    {
      "cell_type": "code",
      "source": [
        "dbWriteTable(con, \"top_most_flights\", df1, row.names = F)\n",
        "dbWriteTable(con, \"top_dep_delays\", df2, row.names = F)\n",
        "dbWriteTable(con, \"top_avg_airtime\", df3, row.names = F)\n",
        "dbWriteTable(con, \"top_pop_dest\", df4, row.names = F)\n",
        "dbWriteTable(con, \"top_avg_dist\", df5, row.names = F)"
      ],
      "metadata": {
        "colab": {
          "base_uri": "https://localhost:8080/",
          "height": 104
        },
        "id": "IJpLagZT6pRz",
        "outputId": "b66aee3b-67d7-4135-a9e7-91fd201d4a05"
      },
      "execution_count": null,
      "outputs": [
        {
          "output_type": "display_data",
          "data": {
            "text/html": [
              "TRUE"
            ],
            "text/markdown": "TRUE",
            "text/latex": "TRUE",
            "text/plain": [
              "[1] TRUE"
            ]
          },
          "metadata": {}
        },
        {
          "output_type": "display_data",
          "data": {
            "text/html": [
              "TRUE"
            ],
            "text/markdown": "TRUE",
            "text/latex": "TRUE",
            "text/plain": [
              "[1] TRUE"
            ]
          },
          "metadata": {}
        },
        {
          "output_type": "display_data",
          "data": {
            "text/html": [
              "TRUE"
            ],
            "text/markdown": "TRUE",
            "text/latex": "TRUE",
            "text/plain": [
              "[1] TRUE"
            ]
          },
          "metadata": {}
        },
        {
          "output_type": "display_data",
          "data": {
            "text/html": [
              "TRUE"
            ],
            "text/markdown": "TRUE",
            "text/latex": "TRUE",
            "text/plain": [
              "[1] TRUE"
            ]
          },
          "metadata": {}
        },
        {
          "output_type": "display_data",
          "data": {
            "text/html": [
              "TRUE"
            ],
            "text/markdown": "TRUE",
            "text/latex": "TRUE",
            "text/plain": [
              "[1] TRUE"
            ]
          },
          "metadata": {}
        }
      ]
    },
    {
      "cell_type": "code",
      "source": [
        "dbListTables(con)"
      ],
      "metadata": {
        "colab": {
          "base_uri": "https://localhost:8080/",
          "height": 34
        },
        "id": "M0lYQADe9Vp0",
        "outputId": "73c01c2c-b569-4ea3-c798-52d0f2c9852e"
      },
      "execution_count": null,
      "outputs": [
        {
          "output_type": "display_data",
          "data": {
            "text/html": [
              "<style>\n",
              ".list-inline {list-style: none; margin:0; padding: 0}\n",
              ".list-inline>li {display: inline-block}\n",
              ".list-inline>li:not(:last-child)::after {content: \"\\00b7\"; padding: 0 .5ex}\n",
              "</style>\n",
              "<ol class=list-inline><li>'top_most_flights'</li><li>'top_dep_delays'</li><li>'top_avg_airtime'</li><li>'top_pop_dest'</li><li>'top_avg_dist'</li></ol>\n"
            ],
            "text/markdown": "1. 'top_most_flights'\n2. 'top_dep_delays'\n3. 'top_avg_airtime'\n4. 'top_pop_dest'\n5. 'top_avg_dist'\n\n\n",
            "text/latex": "\\begin{enumerate*}\n\\item 'top\\_most\\_flights'\n\\item 'top\\_dep\\_delays'\n\\item 'top\\_avg\\_airtime'\n\\item 'top\\_pop\\_dest'\n\\item 'top\\_avg\\_dist'\n\\end{enumerate*}\n",
            "text/plain": [
              "[1] \"top_most_flights\" \"top_dep_delays\"   \"top_avg_airtime\"  \"top_pop_dest\"    \n",
              "[5] \"top_avg_dist\"    "
            ]
          },
          "metadata": {}
        }
      ]
    },
    {
      "cell_type": "markdown",
      "source": [
        "## Get data from Question 1 - Question 5"
      ],
      "metadata": {
        "id": "ZLsANCd49gd2"
      }
    },
    {
      "cell_type": "code",
      "source": [
        "dbGetQuery(con, \"SELECT * FROM top_most_flights\")\n",
        "dbGetQuery(con, \"SELECT * FROM top_dep_delays\")\n",
        "dbGetQuery(con, \"SELECT * FROM top_avg_airtime\")\n",
        "dbGetQuery(con, \"SELECT * FROM top_pop_dest\")\n",
        "dbGetQuery(con, \"SELECT * FROM top_avg_dist\")"
      ],
      "metadata": {
        "colab": {
          "base_uri": "https://localhost:8080/",
          "height": 1000
        },
        "id": "fILxNqLO9oMu",
        "outputId": "359a7793-cead-4436-a1e7-41e3114b196d"
      },
      "execution_count": null,
      "outputs": [
        {
          "output_type": "display_data",
          "data": {
            "text/html": [
              "<table class=\"dataframe\">\n",
              "<caption>A data.frame: 3 × 3</caption>\n",
              "<thead>\n",
              "\t<tr><th></th><th scope=col>carrier</th><th scope=col>count_flights</th><th scope=col>name</th></tr>\n",
              "\t<tr><th></th><th scope=col>&lt;chr&gt;</th><th scope=col>&lt;int&gt;</th><th scope=col>&lt;chr&gt;</th></tr>\n",
              "</thead>\n",
              "<tbody>\n",
              "\t<tr><th scope=row>1</th><td>B6</td><td>159</td><td>JetBlue Airways      </td></tr>\n",
              "\t<tr><th scope=row>2</th><td>UA</td><td>133</td><td>United Air Lines Inc.</td></tr>\n",
              "\t<tr><th scope=row>3</th><td>DL</td><td>124</td><td>Delta Air Lines Inc. </td></tr>\n",
              "</tbody>\n",
              "</table>\n"
            ],
            "text/markdown": "\nA data.frame: 3 × 3\n\n| <!--/--> | carrier &lt;chr&gt; | count_flights &lt;int&gt; | name &lt;chr&gt; |\n|---|---|---|---|\n| 1 | B6 | 159 | JetBlue Airways       |\n| 2 | UA | 133 | United Air Lines Inc. |\n| 3 | DL | 124 | Delta Air Lines Inc.  |\n\n",
            "text/latex": "A data.frame: 3 × 3\n\\begin{tabular}{r|lll}\n  & carrier & count\\_flights & name\\\\\n  & <chr> & <int> & <chr>\\\\\n\\hline\n\t1 & B6 & 159 & JetBlue Airways      \\\\\n\t2 & UA & 133 & United Air Lines Inc.\\\\\n\t3 & DL & 124 & Delta Air Lines Inc. \\\\\n\\end{tabular}\n",
            "text/plain": [
              "  carrier count_flights name                 \n",
              "1 B6      159           JetBlue Airways      \n",
              "2 UA      133           United Air Lines Inc.\n",
              "3 DL      124           Delta Air Lines Inc. "
            ]
          },
          "metadata": {}
        },
        {
          "output_type": "display_data",
          "data": {
            "text/html": [
              "<table class=\"dataframe\">\n",
              "<caption>A data.frame: 5 × 3</caption>\n",
              "<thead>\n",
              "\t<tr><th></th><th scope=col>carrier</th><th scope=col>depart_delay</th><th scope=col>name</th></tr>\n",
              "\t<tr><th></th><th scope=col>&lt;chr&gt;</th><th scope=col>&lt;dbl&gt;</th><th scope=col>&lt;chr&gt;</th></tr>\n",
              "</thead>\n",
              "<tbody>\n",
              "\t<tr><th scope=row>1</th><td>OO</td><td>58.00000</td><td>SkyWest Airlines Inc.   </td></tr>\n",
              "\t<tr><th scope=row>2</th><td>YV</td><td>52.87069</td><td>Mesa Airlines Inc.      </td></tr>\n",
              "\t<tr><th scope=row>3</th><td>EV</td><td>50.19481</td><td>ExpressJet Airlines Inc.</td></tr>\n",
              "\t<tr><th scope=row>4</th><td>9E</td><td>48.47393</td><td>Endeavor Air Inc.       </td></tr>\n",
              "\t<tr><th scope=row>5</th><td>F9</td><td>45.18235</td><td>Frontier Airlines Inc.  </td></tr>\n",
              "</tbody>\n",
              "</table>\n"
            ],
            "text/markdown": "\nA data.frame: 5 × 3\n\n| <!--/--> | carrier &lt;chr&gt; | depart_delay &lt;dbl&gt; | name &lt;chr&gt; |\n|---|---|---|---|\n| 1 | OO | 58.00000 | SkyWest Airlines Inc.    |\n| 2 | YV | 52.87069 | Mesa Airlines Inc.       |\n| 3 | EV | 50.19481 | ExpressJet Airlines Inc. |\n| 4 | 9E | 48.47393 | Endeavor Air Inc.        |\n| 5 | F9 | 45.18235 | Frontier Airlines Inc.   |\n\n",
            "text/latex": "A data.frame: 5 × 3\n\\begin{tabular}{r|lll}\n  & carrier & depart\\_delay & name\\\\\n  & <chr> & <dbl> & <chr>\\\\\n\\hline\n\t1 & OO & 58.00000 & SkyWest Airlines Inc.   \\\\\n\t2 & YV & 52.87069 & Mesa Airlines Inc.      \\\\\n\t3 & EV & 50.19481 & ExpressJet Airlines Inc.\\\\\n\t4 & 9E & 48.47393 & Endeavor Air Inc.       \\\\\n\t5 & F9 & 45.18235 & Frontier Airlines Inc.  \\\\\n\\end{tabular}\n",
            "text/plain": [
              "  carrier depart_delay name                    \n",
              "1 OO      58.00000     SkyWest Airlines Inc.   \n",
              "2 YV      52.87069     Mesa Airlines Inc.      \n",
              "3 EV      50.19481     ExpressJet Airlines Inc.\n",
              "4 9E      48.47393     Endeavor Air Inc.       \n",
              "5 F9      45.18235     Frontier Airlines Inc.  "
            ]
          },
          "metadata": {}
        },
        {
          "output_type": "display_data",
          "data": {
            "text/html": [
              "<table class=\"dataframe\">\n",
              "<caption>A data.frame: 10 × 3</caption>\n",
              "<thead>\n",
              "\t<tr><th></th><th scope=col>carrier</th><th scope=col>m_airtime</th><th scope=col>name</th></tr>\n",
              "\t<tr><th></th><th scope=col>&lt;chr&gt;</th><th scope=col>&lt;dbl&gt;</th><th scope=col>&lt;chr&gt;</th></tr>\n",
              "</thead>\n",
              "<tbody>\n",
              "\t<tr><th scope=row>1</th><td>HA</td><td>630.7143</td><td>Hawaiian Airlines Inc.     </td></tr>\n",
              "\t<tr><th scope=row>2</th><td>VX</td><td>354.0000</td><td>Virgin America             </td></tr>\n",
              "\t<tr><th scope=row>3</th><td>AS</td><td>338.4074</td><td>Alaska Airlines Inc.       </td></tr>\n",
              "\t<tr><th scope=row>4</th><td>F9</td><td>243.7377</td><td>Frontier Airlines Inc.     </td></tr>\n",
              "\t<tr><th scope=row>5</th><td>UA</td><td>224.2924</td><td>United Air Lines Inc.      </td></tr>\n",
              "\t<tr><th scope=row>6</th><td>AA</td><td>200.7724</td><td>American Airlines Inc.     </td></tr>\n",
              "\t<tr><th scope=row>7</th><td>DL</td><td>183.6727</td><td>Delta Air Lines Inc.       </td></tr>\n",
              "\t<tr><th scope=row>8</th><td>WN</td><td>162.1257</td><td>Southwest Airlines Co.     </td></tr>\n",
              "\t<tr><th scope=row>9</th><td>B6</td><td>161.5279</td><td>JetBlue Airways            </td></tr>\n",
              "\t<tr><th scope=row>10</th><td>FL</td><td>106.5000</td><td>AirTran Airways Corporation</td></tr>\n",
              "</tbody>\n",
              "</table>\n"
            ],
            "text/markdown": "\nA data.frame: 10 × 3\n\n| <!--/--> | carrier &lt;chr&gt; | m_airtime &lt;dbl&gt; | name &lt;chr&gt; |\n|---|---|---|---|\n| 1 | HA | 630.7143 | Hawaiian Airlines Inc.      |\n| 2 | VX | 354.0000 | Virgin America              |\n| 3 | AS | 338.4074 | Alaska Airlines Inc.        |\n| 4 | F9 | 243.7377 | Frontier Airlines Inc.      |\n| 5 | UA | 224.2924 | United Air Lines Inc.       |\n| 6 | AA | 200.7724 | American Airlines Inc.      |\n| 7 | DL | 183.6727 | Delta Air Lines Inc.        |\n| 8 | WN | 162.1257 | Southwest Airlines Co.      |\n| 9 | B6 | 161.5279 | JetBlue Airways             |\n| 10 | FL | 106.5000 | AirTran Airways Corporation |\n\n",
            "text/latex": "A data.frame: 10 × 3\n\\begin{tabular}{r|lll}\n  & carrier & m\\_airtime & name\\\\\n  & <chr> & <dbl> & <chr>\\\\\n\\hline\n\t1 & HA & 630.7143 & Hawaiian Airlines Inc.     \\\\\n\t2 & VX & 354.0000 & Virgin America             \\\\\n\t3 & AS & 338.4074 & Alaska Airlines Inc.       \\\\\n\t4 & F9 & 243.7377 & Frontier Airlines Inc.     \\\\\n\t5 & UA & 224.2924 & United Air Lines Inc.      \\\\\n\t6 & AA & 200.7724 & American Airlines Inc.     \\\\\n\t7 & DL & 183.6727 & Delta Air Lines Inc.       \\\\\n\t8 & WN & 162.1257 & Southwest Airlines Co.     \\\\\n\t9 & B6 & 161.5279 & JetBlue Airways            \\\\\n\t10 & FL & 106.5000 & AirTran Airways Corporation\\\\\n\\end{tabular}\n",
            "text/plain": [
              "   carrier m_airtime name                       \n",
              "1  HA      630.7143  Hawaiian Airlines Inc.     \n",
              "2  VX      354.0000  Virgin America             \n",
              "3  AS      338.4074  Alaska Airlines Inc.       \n",
              "4  F9      243.7377  Frontier Airlines Inc.     \n",
              "5  UA      224.2924  United Air Lines Inc.      \n",
              "6  AA      200.7724  American Airlines Inc.     \n",
              "7  DL      183.6727  Delta Air Lines Inc.       \n",
              "8  WN      162.1257  Southwest Airlines Co.     \n",
              "9  B6      161.5279  JetBlue Airways            \n",
              "10 FL      106.5000  AirTran Airways Corporation"
            ]
          },
          "metadata": {}
        },
        {
          "output_type": "display_data",
          "data": {
            "text/html": [
              "<table class=\"dataframe\">\n",
              "<caption>A data.frame: 3 × 2</caption>\n",
              "<thead>\n",
              "\t<tr><th></th><th scope=col>dest</th><th scope=col>n</th></tr>\n",
              "\t<tr><th></th><th scope=col>&lt;chr&gt;</th><th scope=col>&lt;int&gt;</th></tr>\n",
              "</thead>\n",
              "<tbody>\n",
              "\t<tr><th scope=row>1</th><td>LAX</td><td>1494</td></tr>\n",
              "\t<tr><th scope=row>2</th><td>ORD</td><td>1487</td></tr>\n",
              "\t<tr><th scope=row>3</th><td>ATL</td><td>1448</td></tr>\n",
              "</tbody>\n",
              "</table>\n"
            ],
            "text/markdown": "\nA data.frame: 3 × 2\n\n| <!--/--> | dest &lt;chr&gt; | n &lt;int&gt; |\n|---|---|---|\n| 1 | LAX | 1494 |\n| 2 | ORD | 1487 |\n| 3 | ATL | 1448 |\n\n",
            "text/latex": "A data.frame: 3 × 2\n\\begin{tabular}{r|ll}\n  & dest & n\\\\\n  & <chr> & <int>\\\\\n\\hline\n\t1 & LAX & 1494\\\\\n\t2 & ORD & 1487\\\\\n\t3 & ATL & 1448\\\\\n\\end{tabular}\n",
            "text/plain": [
              "  dest n   \n",
              "1 LAX  1494\n",
              "2 ORD  1487\n",
              "3 ATL  1448"
            ]
          },
          "metadata": {}
        },
        {
          "output_type": "display_data",
          "data": {
            "text/html": [
              "<table class=\"dataframe\">\n",
              "<caption>A data.frame: 10 × 3</caption>\n",
              "<thead>\n",
              "\t<tr><th></th><th scope=col>carrier</th><th scope=col>avg_dis</th><th scope=col>name</th></tr>\n",
              "\t<tr><th></th><th scope=col>&lt;chr&gt;</th><th scope=col>&lt;dbl&gt;</th><th scope=col>&lt;chr&gt;</th></tr>\n",
              "</thead>\n",
              "<tbody>\n",
              "\t<tr><th scope=row>1</th><td>HA</td><td>4983.0000</td><td>Hawaiian Airlines Inc.     </td></tr>\n",
              "\t<tr><th scope=row>2</th><td>VX</td><td>2499.4326</td><td>Virgin America             </td></tr>\n",
              "\t<tr><th scope=row>3</th><td>AS</td><td>2402.0000</td><td>Alaska Airlines Inc.       </td></tr>\n",
              "\t<tr><th scope=row>4</th><td>F9</td><td>1620.0000</td><td>Frontier Airlines Inc.     </td></tr>\n",
              "\t<tr><th scope=row>5</th><td>UA</td><td>1531.3214</td><td>United Air Lines Inc.      </td></tr>\n",
              "\t<tr><th scope=row>6</th><td>AA</td><td>1343.2799</td><td>American Airlines Inc.     </td></tr>\n",
              "\t<tr><th scope=row>7</th><td>DL</td><td>1237.9791</td><td>Delta Air Lines Inc.       </td></tr>\n",
              "\t<tr><th scope=row>8</th><td>B6</td><td>1069.6896</td><td>JetBlue Airways            </td></tr>\n",
              "\t<tr><th scope=row>9</th><td>WN</td><td> 996.9714</td><td>Southwest Airlines Co.     </td></tr>\n",
              "\t<tr><th scope=row>10</th><td>FL</td><td> 664.7874</td><td>AirTran Airways Corporation</td></tr>\n",
              "</tbody>\n",
              "</table>\n"
            ],
            "text/markdown": "\nA data.frame: 10 × 3\n\n| <!--/--> | carrier &lt;chr&gt; | avg_dis &lt;dbl&gt; | name &lt;chr&gt; |\n|---|---|---|---|\n| 1 | HA | 4983.0000 | Hawaiian Airlines Inc.      |\n| 2 | VX | 2499.4326 | Virgin America              |\n| 3 | AS | 2402.0000 | Alaska Airlines Inc.        |\n| 4 | F9 | 1620.0000 | Frontier Airlines Inc.      |\n| 5 | UA | 1531.3214 | United Air Lines Inc.       |\n| 6 | AA | 1343.2799 | American Airlines Inc.      |\n| 7 | DL | 1237.9791 | Delta Air Lines Inc.        |\n| 8 | B6 | 1069.6896 | JetBlue Airways             |\n| 9 | WN |  996.9714 | Southwest Airlines Co.      |\n| 10 | FL |  664.7874 | AirTran Airways Corporation |\n\n",
            "text/latex": "A data.frame: 10 × 3\n\\begin{tabular}{r|lll}\n  & carrier & avg\\_dis & name\\\\\n  & <chr> & <dbl> & <chr>\\\\\n\\hline\n\t1 & HA & 4983.0000 & Hawaiian Airlines Inc.     \\\\\n\t2 & VX & 2499.4326 & Virgin America             \\\\\n\t3 & AS & 2402.0000 & Alaska Airlines Inc.       \\\\\n\t4 & F9 & 1620.0000 & Frontier Airlines Inc.     \\\\\n\t5 & UA & 1531.3214 & United Air Lines Inc.      \\\\\n\t6 & AA & 1343.2799 & American Airlines Inc.     \\\\\n\t7 & DL & 1237.9791 & Delta Air Lines Inc.       \\\\\n\t8 & B6 & 1069.6896 & JetBlue Airways            \\\\\n\t9 & WN &  996.9714 & Southwest Airlines Co.     \\\\\n\t10 & FL &  664.7874 & AirTran Airways Corporation\\\\\n\\end{tabular}\n",
            "text/plain": [
              "   carrier avg_dis   name                       \n",
              "1  HA      4983.0000 Hawaiian Airlines Inc.     \n",
              "2  VX      2499.4326 Virgin America             \n",
              "3  AS      2402.0000 Alaska Airlines Inc.       \n",
              "4  F9      1620.0000 Frontier Airlines Inc.     \n",
              "5  UA      1531.3214 United Air Lines Inc.      \n",
              "6  AA      1343.2799 American Airlines Inc.     \n",
              "7  DL      1237.9791 Delta Air Lines Inc.       \n",
              "8  B6      1069.6896 JetBlue Airways            \n",
              "9  WN       996.9714 Southwest Airlines Co.     \n",
              "10 FL       664.7874 AirTran Airways Corporation"
            ]
          },
          "metadata": {}
        }
      ]
    },
    {
      "cell_type": "markdown",
      "source": [
        "## Close Connection"
      ],
      "metadata": {
        "id": "Y3kMyB9m-JS-"
      }
    },
    {
      "cell_type": "code",
      "source": [
        "dbDisconnect(con)"
      ],
      "metadata": {
        "colab": {
          "base_uri": "https://localhost:8080/",
          "height": 34
        },
        "id": "HaNfdI0o-OkT",
        "outputId": "df5a8161-2cfd-4230-946d-c138d70a6de6"
      },
      "execution_count": null,
      "outputs": [
        {
          "output_type": "display_data",
          "data": {
            "text/html": [
              "TRUE"
            ],
            "text/markdown": "TRUE",
            "text/latex": "TRUE",
            "text/plain": [
              "[1] TRUE"
            ]
          },
          "metadata": {}
        }
      ]
    },
    {
      "cell_type": "markdown",
      "source": [],
      "metadata": {
        "id": "9bZu8_6M6o9O"
      }
    }
  ]
}